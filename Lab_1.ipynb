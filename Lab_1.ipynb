{
  "nbformat": 4,
  "nbformat_minor": 0,
  "metadata": {
    "colab": {
      "provenance": [],
      "authorship_tag": "ABX9TyOqq1oEulWaRinuFu+LSfd8",
      "include_colab_link": true
    },
    "kernelspec": {
      "name": "python3",
      "display_name": "Python 3"
    },
    "language_info": {
      "name": "python"
    }
  },
  "cells": [
    {
      "cell_type": "markdown",
      "metadata": {
        "id": "view-in-github",
        "colab_type": "text"
      },
      "source": [
        "<a href=\"https://colab.research.google.com/github/JustKeepPlay/Creative-Lab/blob/main/Lab_1.ipynb\" target=\"_parent\"><img src=\"https://colab.research.google.com/assets/colab-badge.svg\" alt=\"Open In Colab\"/></a>"
      ]
    },
    {
      "cell_type": "code",
      "execution_count": 216,
      "metadata": {
        "id": "Dy4_nhHPC_pg"
      },
      "outputs": [],
      "source": [
        "import numpy as np\n",
        "import math\n",
        "#import networkx as nx\n"
      ]
    },
    {
      "cell_type": "code",
      "source": [
        "A = np.arange(0,20,1) #gen list 20 element\n",
        "B = np.arange(0,40,2) #gen even list 20 element\n",
        "C = np.arange(1,40,2) #gen odd list 20 element"
      ],
      "metadata": {
        "id": "eZxComGqDAvs"
      },
      "execution_count": 217,
      "outputs": []
    },
    {
      "cell_type": "code",
      "source": [
        "#prime number function\n",
        "def is_prime(num):\n",
        "\n",
        "    if num < 2:\n",
        "        return False\n",
        "    for i in range(2, int(math.sqrt(num)) + 1):\n",
        "        if num % i == 0:\n",
        "            return False\n",
        "    return True"
      ],
      "metadata": {
        "id": "pfxyPry9DHd0"
      },
      "execution_count": 218,
      "outputs": []
    },
    {
      "cell_type": "code",
      "source": [
        "#gen prime list 20 element\n",
        "D = np.array([num for num in range(2, 100) if is_prime(num)])[:20]\n",
        "D"
      ],
      "metadata": {
        "colab": {
          "base_uri": "https://localhost:8080/"
        },
        "id": "ZblJEDOIDJyC",
        "outputId": "814c6f95-eb79-4e80-c04f-1f53c841b53a"
      },
      "execution_count": 219,
      "outputs": [
        {
          "output_type": "execute_result",
          "data": {
            "text/plain": [
              "array([ 2,  3,  5,  7, 11, 13, 17, 19, 23, 29, 31, 37, 41, 43, 47, 53, 59,\n",
              "       61, 67, 71])"
            ]
          },
          "metadata": {},
          "execution_count": 219
        }
      ]
    },
    {
      "cell_type": "code",
      "source": [
        "#gen 5-divided list 20 element\n",
        "E = np.arange(5,105,5)\n",
        "E"
      ],
      "metadata": {
        "colab": {
          "base_uri": "https://localhost:8080/"
        },
        "id": "LEvMiQDlDMNp",
        "outputId": "6c5e2d7c-504d-4f80-b197-8f04dd5c905d"
      },
      "execution_count": 220,
      "outputs": [
        {
          "output_type": "execute_result",
          "data": {
            "text/plain": [
              "array([  5,  10,  15,  20,  25,  30,  35,  40,  45,  50,  55,  60,  65,\n",
              "        70,  75,  80,  85,  90,  95, 100])"
            ]
          },
          "metadata": {},
          "execution_count": 220
        }
      ]
    },
    {
      "cell_type": "code",
      "source": [
        "Lists = [A, B, C, D, E]\n",
        "for i in range(len(Lists)):\n",
        "    print(Lists[i])"
      ],
      "metadata": {
        "colab": {
          "base_uri": "https://localhost:8080/"
        },
        "id": "AIxePrUVDNyt",
        "outputId": "e329879d-9dd3-4812-d440-022b1f73176a"
      },
      "execution_count": 221,
      "outputs": [
        {
          "output_type": "stream",
          "name": "stdout",
          "text": [
            "[ 0  1  2  3  4  5  6  7  8  9 10 11 12 13 14 15 16 17 18 19]\n",
            "[ 0  2  4  6  8 10 12 14 16 18 20 22 24 26 28 30 32 34 36 38]\n",
            "[ 1  3  5  7  9 11 13 15 17 19 21 23 25 27 29 31 33 35 37 39]\n",
            "[ 2  3  5  7 11 13 17 19 23 29 31 37 41 43 47 53 59 61 67 71]\n",
            "[  5  10  15  20  25  30  35  40  45  50  55  60  65  70  75  80  85  90\n",
            "  95 100]\n"
          ]
        }
      ]
    },
    {
      "cell_type": "code",
      "source": [
        "pip install networkx"
      ],
      "metadata": {
        "colab": {
          "base_uri": "https://localhost:8080/"
        },
        "id": "OA0V0qB7DPHs",
        "outputId": "5a4f50e5-0651-4efa-a968-210a57c8c148"
      },
      "execution_count": 222,
      "outputs": [
        {
          "output_type": "stream",
          "name": "stdout",
          "text": [
            "Requirement already satisfied: networkx in /usr/local/lib/python3.10/dist-packages (3.1)\n"
          ]
        }
      ]
    },
    {
      "cell_type": "code",
      "source": [
        "import matplotlib.pyplot as plt\n",
        "import networkx as nx\n",
        "import hashlib as hs"
      ],
      "metadata": {
        "id": "ILhx80l9DRX0"
      },
      "execution_count": 223,
      "outputs": []
    },
    {
      "cell_type": "code",
      "source": [
        "G=nx.Graph()"
      ],
      "metadata": {
        "id": "YPv6nn4eE4Nw"
      },
      "execution_count": 224,
      "outputs": []
    },
    {
      "cell_type": "code",
      "source": [
        "allNode =[]\n",
        "def add_node (nodes):\n",
        "    listofNode = []\n",
        "    for node in nodes:\n",
        "        if node not in listofNode:\n",
        "            addNode = G.add_node(node)\n",
        "            listofNode.append(node)\n",
        "            allNode.append(node)\n",
        "    return addNode"
      ],
      "metadata": {
        "id": "Ny4lg3-Tv2at"
      },
      "execution_count": 240,
      "outputs": []
    },
    {
      "cell_type": "code",
      "source": [
        "allNode=[]\n",
        "add_node(A)\n",
        "add_node(B)\n",
        "add_node(E)"
      ],
      "metadata": {
        "id": "LYxORkws2l4g"
      },
      "execution_count": 241,
      "outputs": []
    },
    {
      "cell_type": "code",
      "source": [
        "allNode"
      ],
      "metadata": {
        "colab": {
          "base_uri": "https://localhost:8080/"
        },
        "id": "0hW2kA_qNd_W",
        "outputId": "3856d31a-c70e-4299-d2d2-a4b8e6c2bf19"
      },
      "execution_count": 242,
      "outputs": [
        {
          "output_type": "execute_result",
          "data": {
            "text/plain": [
              "[0,\n",
              " 1,\n",
              " 2,\n",
              " 3,\n",
              " 4,\n",
              " 5,\n",
              " 6,\n",
              " 7,\n",
              " 8,\n",
              " 9,\n",
              " 10,\n",
              " 11,\n",
              " 12,\n",
              " 13,\n",
              " 14,\n",
              " 15,\n",
              " 16,\n",
              " 17,\n",
              " 18,\n",
              " 19,\n",
              " 0,\n",
              " 2,\n",
              " 4,\n",
              " 6,\n",
              " 8,\n",
              " 10,\n",
              " 12,\n",
              " 14,\n",
              " 16,\n",
              " 18,\n",
              " 20,\n",
              " 22,\n",
              " 24,\n",
              " 26,\n",
              " 28,\n",
              " 30,\n",
              " 32,\n",
              " 34,\n",
              " 36,\n",
              " 38,\n",
              " 5,\n",
              " 10,\n",
              " 15,\n",
              " 20,\n",
              " 25,\n",
              " 30,\n",
              " 35,\n",
              " 40,\n",
              " 45,\n",
              " 50,\n",
              " 55,\n",
              " 60,\n",
              " 65,\n",
              " 70,\n",
              " 75,\n",
              " 80,\n",
              " 85,\n",
              " 90,\n",
              " 95,\n",
              " 100]"
            ]
          },
          "metadata": {},
          "execution_count": 242
        }
      ]
    },
    {
      "cell_type": "code",
      "source": [
        "#gen edges for each list\n",
        "edgesA = [(A[i], A[i + 1]) for i in range(len(A) - 1)]\n",
        "edgesB = [(B[i], B[i + 1]) for i in range(len(B) - 1)]\n",
        "edgesC = [(C[i], C[i + 1]) for i in range(len(C) - 1)]\n",
        "edgesD = [(D[i], D[i + 1]) for i in range(len(D) - 1)]\n",
        "edgesE = [(E[i], E[i + 1]) for i in range(len(E) - 1)]"
      ],
      "metadata": {
        "id": "lY3j4lkaNnuX"
      },
      "execution_count": 243,
      "outputs": []
    },
    {
      "cell_type": "code",
      "source": [
        "edgesE"
      ],
      "metadata": {
        "colab": {
          "base_uri": "https://localhost:8080/"
        },
        "id": "D4ZqcCsTwoln",
        "outputId": "6c5aacea-9753-4e18-cc3e-9544782bf370"
      },
      "execution_count": 244,
      "outputs": [
        {
          "output_type": "execute_result",
          "data": {
            "text/plain": [
              "[(5, 10),\n",
              " (10, 15),\n",
              " (15, 20),\n",
              " (20, 25),\n",
              " (25, 30),\n",
              " (30, 35),\n",
              " (35, 40),\n",
              " (40, 45),\n",
              " (45, 50),\n",
              " (50, 55),\n",
              " (55, 60),\n",
              " (60, 65),\n",
              " (65, 70),\n",
              " (70, 75),\n",
              " (75, 80),\n",
              " (80, 85),\n",
              " (85, 90),\n",
              " (90, 95),\n",
              " (95, 100)]"
            ]
          },
          "metadata": {},
          "execution_count": 244
        }
      ]
    },
    {
      "cell_type": "code",
      "source": [
        "allEdge=[]\n",
        "def add_edge(edges):\n",
        "    listofEdge = []\n",
        "    for edge in edges :\n",
        "        if edge not in listofEdge:\n",
        "            added = G.add_edge(*edge)\n",
        "            listofEdge.append(edge)\n",
        "            allEdge.append(edge)\n",
        "    return added"
      ],
      "metadata": {
        "id": "Vk70f3NScN_A"
      },
      "execution_count": 245,
      "outputs": []
    },
    {
      "cell_type": "code",
      "source": [
        "allEdge = []\n",
        "add_edge(edgesA)\n",
        "add_edge(edgesB)\n",
        "add_edge(edgesE)"
      ],
      "metadata": {
        "id": "Qcap_K5zfMve"
      },
      "execution_count": 246,
      "outputs": []
    },
    {
      "cell_type": "code",
      "source": [
        "print(allEdge)"
      ],
      "metadata": {
        "colab": {
          "base_uri": "https://localhost:8080/"
        },
        "id": "c_Srr9TVPCML",
        "outputId": "1270f604-5526-4103-810e-baa98751fca8"
      },
      "execution_count": 247,
      "outputs": [
        {
          "output_type": "stream",
          "name": "stdout",
          "text": [
            "[(0, 1), (1, 2), (2, 3), (3, 4), (4, 5), (5, 6), (6, 7), (7, 8), (8, 9), (9, 10), (10, 11), (11, 12), (12, 13), (13, 14), (14, 15), (15, 16), (16, 17), (17, 18), (18, 19), (0, 2), (2, 4), (4, 6), (6, 8), (8, 10), (10, 12), (12, 14), (14, 16), (16, 18), (18, 20), (20, 22), (22, 24), (24, 26), (26, 28), (28, 30), (30, 32), (32, 34), (34, 36), (36, 38), (5, 10), (10, 15), (15, 20), (20, 25), (25, 30), (30, 35), (35, 40), (40, 45), (45, 50), (50, 55), (55, 60), (60, 65), (65, 70), (70, 75), (75, 80), (80, 85), (85, 90), (90, 95), (95, 100)]\n"
          ]
        }
      ]
    },
    {
      "cell_type": "code",
      "source": [
        "def traceback_node(node):\n",
        "    traceback_list = []\n",
        "    for i, num in enumerate(node):\n",
        "        if i == 0:\n",
        "            traceback_list.append((None, None, num))\n",
        "        elif i == 1:\n",
        "            traceback_list.append((None, node[i - 1], num))\n",
        "        else:\n",
        "            traceback_list.append((node[i - 2], node[i - 1], num))\n",
        "\n",
        "    return traceback_list"
      ],
      "metadata": {
        "id": "vIrRA510Iin1"
      },
      "execution_count": 232,
      "outputs": []
    },
    {
      "cell_type": "code",
      "source": [
        "preNode = traceback_node(E)"
      ],
      "metadata": {
        "id": "z-TgeqbiqQ9T"
      },
      "execution_count": 233,
      "outputs": []
    },
    {
      "cell_type": "code",
      "source": [
        "for edge, hist3 in zip(edgesE, preNode):\n",
        "    print(edge,hist3)"
      ],
      "metadata": {
        "colab": {
          "base_uri": "https://localhost:8080/"
        },
        "id": "rtWChVgNuXw7",
        "outputId": "0f3942cb-89d9-44be-ff52-afe8a9ca0828"
      },
      "execution_count": 234,
      "outputs": [
        {
          "output_type": "stream",
          "name": "stdout",
          "text": [
            "(5, 10) (None, None, 5)\n",
            "(10, 15) (None, 5, 10)\n",
            "(15, 20) (5, 10, 15)\n",
            "(20, 25) (10, 15, 20)\n",
            "(25, 30) (15, 20, 25)\n",
            "(30, 35) (20, 25, 30)\n",
            "(35, 40) (25, 30, 35)\n",
            "(40, 45) (30, 35, 40)\n",
            "(45, 50) (35, 40, 45)\n",
            "(50, 55) (40, 45, 50)\n",
            "(55, 60) (45, 50, 55)\n",
            "(60, 65) (50, 55, 60)\n",
            "(65, 70) (55, 60, 65)\n",
            "(70, 75) (60, 65, 70)\n",
            "(75, 80) (65, 70, 75)\n",
            "(80, 85) (70, 75, 80)\n",
            "(85, 90) (75, 80, 85)\n",
            "(90, 95) (80, 85, 90)\n",
            "(95, 100) (85, 90, 95)\n"
          ]
        }
      ]
    },
    {
      "cell_type": "code",
      "source": [
        "nx.draw_networkx(G,arrows=True,arrowsize=10,arrowstyle='->',with_labels=True,node_size=80,node_color='#42f5e9')"
      ],
      "metadata": {
        "id": "cpqjWNgrywqr",
        "colab": {
          "base_uri": "https://localhost:8080/",
          "height": 406
        },
        "outputId": "713b4b03-0e33-4e76-81f5-1ee40f943a96"
      },
      "execution_count": 235,
      "outputs": [
        {
          "output_type": "display_data",
          "data": {
            "text/plain": [
              "<Figure size 640x480 with 1 Axes>"
            ],
            "image/png": "[encoded data removed]"
          },
          "metadata": {}
        }
      ]
    },
    {
      "cell_type": "code",
      "source": [],
      "metadata": {
        "id": "IaNW0z0x8lCi"
      },
      "execution_count": 235,
      "outputs": []
    }
  ]
}