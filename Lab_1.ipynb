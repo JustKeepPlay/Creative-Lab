{
  "nbformat": 4,
  "nbformat_minor": 0,
  "metadata": {
    "colab": {
      "provenance": [],
      "authorship_tag": "ABX9TyOL/yrXYw4OXYn1xtrjQNrb",
      "include_colab_link": true
    },
    "kernelspec": {
      "name": "python3",
      "display_name": "Python 3"
    },
    "language_info": {
      "name": "python"
    }
  },
  "cells": [
    {
      "cell_type": "markdown",
      "metadata": {
        "id": "view-in-github",
        "colab_type": "text"
      },
      "source": [
        "<a href=\"https://colab.research.google.com/github/JustKeepPlay/Creative-Lab/blob/main/Lab_1.ipynb\" target=\"_parent\"><img src=\"https://colab.research.google.com/assets/colab-badge.svg\" alt=\"Open In Colab\"/></a>"
      ]
    },
    {
      "cell_type": "code",
      "execution_count": 2,
      "metadata": {
        "id": "Dy4_nhHPC_pg"
      },
      "outputs": [],
      "source": [
        "import numpy as np\n",
        "import math\n",
        "#import networkx as nx\n"
      ]
    },
    {
      "cell_type": "code",
      "source": [
        "A = np.arange(0,20,1)\n",
        "B = np.arange(0,40,2)\n",
        "C = np.arange(1,40,2)"
      ],
      "metadata": {
        "id": "eZxComGqDAvs"
      },
      "execution_count": 3,
      "outputs": []
    },
    {
      "cell_type": "code",
      "source": [
        "nums = np.arange(2,20,1)\n",
        "nums"
      ],
      "metadata": {
        "colab": {
          "base_uri": "https://localhost:8080/"
        },
        "id": "vrQg7OvrDDMo",
        "outputId": "321cbddc-e159-4bdd-a4fa-14f4c89b5e88"
      },
      "execution_count": 4,
      "outputs": [
        {
          "output_type": "execute_result",
          "data": {
            "text/plain": [
              "array([ 2,  3,  4,  5,  6,  7,  8,  9, 10, 11, 12, 13, 14, 15, 16, 17, 18,\n",
              "       19])"
            ]
          },
          "metadata": {},
          "execution_count": 4
        }
      ]
    },
    {
      "cell_type": "code",
      "source": [
        "def is_prime(num):\n",
        "    if num < 2:\n",
        "        return False\n",
        "    for i in range(2, int(math.sqrt(num)) + 1):\n",
        "        if num % i == 0:\n",
        "            return False\n",
        "    return True"
      ],
      "metadata": {
        "id": "pfxyPry9DHd0"
      },
      "execution_count": 5,
      "outputs": []
    },
    {
      "cell_type": "code",
      "source": [
        "D = np.array([num for num in range(2, 100) if is_prime(num)])[:20]\n",
        "D"
      ],
      "metadata": {
        "colab": {
          "base_uri": "https://localhost:8080/"
        },
        "id": "ZblJEDOIDJyC",
        "outputId": "89cac3e3-c5f1-40e7-b2e4-9a21ce738436"
      },
      "execution_count": 6,
      "outputs": [
        {
          "output_type": "execute_result",
          "data": {
            "text/plain": [
              "array([ 2,  3,  5,  7, 11, 13, 17, 19, 23, 29, 31, 37, 41, 43, 47, 53, 59,\n",
              "       61, 67, 71])"
            ]
          },
          "metadata": {},
          "execution_count": 6
        }
      ]
    },
    {
      "cell_type": "code",
      "source": [
        "E = np.arange(5,105,5)\n",
        "E"
      ],
      "metadata": {
        "colab": {
          "base_uri": "https://localhost:8080/"
        },
        "id": "LEvMiQDlDMNp",
        "outputId": "c575ece8-3fca-44b2-bda1-4fb2f86166a8"
      },
      "execution_count": 7,
      "outputs": [
        {
          "output_type": "execute_result",
          "data": {
            "text/plain": [
              "array([  5,  10,  15,  20,  25,  30,  35,  40,  45,  50,  55,  60,  65,\n",
              "        70,  75,  80,  85,  90,  95, 100])"
            ]
          },
          "metadata": {},
          "execution_count": 7
        }
      ]
    },
    {
      "cell_type": "code",
      "source": [
        "Lists = [A, B, C, D, E]\n",
        "for i in range(len(Lists)):\n",
        "    print(Lists[i])"
      ],
      "metadata": {
        "colab": {
          "base_uri": "https://localhost:8080/"
        },
        "id": "AIxePrUVDNyt",
        "outputId": "517444a2-31bb-431b-9ea6-8d4bf2a1e5ed"
      },
      "execution_count": 8,
      "outputs": [
        {
          "output_type": "stream",
          "name": "stdout",
          "text": [
            "[ 0  1  2  3  4  5  6  7  8  9 10 11 12 13 14 15 16 17 18 19]\n",
            "[ 0  2  4  6  8 10 12 14 16 18 20 22 24 26 28 30 32 34 36 38]\n",
            "[ 1  3  5  7  9 11 13 15 17 19 21 23 25 27 29 31 33 35 37 39]\n",
            "[ 2  3  5  7 11 13 17 19 23 29 31 37 41 43 47 53 59 61 67 71]\n",
            "[  5  10  15  20  25  30  35  40  45  50  55  60  65  70  75  80  85  90\n",
            "  95 100]\n"
          ]
        }
      ]
    },
    {
      "cell_type": "code",
      "source": [
        "allNum = np.concatenate((A,B,C,D,E))\n",
        "Vertices = list(set(allNum))\n",
        "print(Vertices)\n",
        "print(len(Vertices))"
      ],
      "metadata": {
        "colab": {
          "base_uri": "https://localhost:8080/"
        },
        "id": "8gJunl-0Qg-z",
        "outputId": "aa297eba-9704-41f2-9863-b5d54c35b5fd"
      },
      "execution_count": 25,
      "outputs": [
        {
          "output_type": "stream",
          "name": "stdout",
          "text": [
            "[0, 1, 2, 3, 4, 5, 6, 7, 8, 9, 10, 11, 12, 13, 14, 15, 16, 17, 18, 19, 20, 21, 22, 23, 24, 25, 26, 27, 28, 29, 30, 31, 32, 33, 34, 35, 36, 37, 38, 39, 40, 41, 43, 45, 47, 50, 53, 55, 59, 60, 61, 65, 67, 70, 71, 75, 80, 85, 90, 95, 100]\n",
            "61\n"
          ]
        }
      ]
    },
    {
      "cell_type": "code",
      "source": [
        "pip install networkx"
      ],
      "metadata": {
        "colab": {
          "base_uri": "https://localhost:8080/"
        },
        "id": "OA0V0qB7DPHs",
        "outputId": "ec2b9fda-efd9-473e-fca9-ea28f6f54116"
      },
      "execution_count": 26,
      "outputs": [
        {
          "output_type": "stream",
          "name": "stdout",
          "text": [
            "Requirement already satisfied: networkx in /usr/local/lib/python3.10/dist-packages (3.1)\n"
          ]
        }
      ]
    },
    {
      "cell_type": "code",
      "source": [
        "import matplotlib.pyplot as plt\n",
        "import networkx as nx"
      ],
      "metadata": {
        "id": "ILhx80l9DRX0"
      },
      "execution_count": 27,
      "outputs": []
    },
    {
      "cell_type": "code",
      "source": [
        "G=nx.Graph()"
      ],
      "metadata": {
        "id": "YPv6nn4eE4Nw"
      },
      "execution_count": 28,
      "outputs": []
    },
    {
      "cell_type": "code",
      "source": [
        "edgesA = [(A[i], A[i + 1]) for i in range(len(A) - 1)]\n",
        "edgesB = [(B[i], B[i + 1]) for i in range(len(B) - 1)]\n",
        "edgesC = [(C[i], C[i + 1]) for i in range(len(C) - 1)]\n",
        "edgesD = [(D[i], D[i + 1]) for i in range(len(D) - 1)]\n",
        "edgesE = [(E[i], E[i + 1]) for i in range(len(E) - 1)]"
      ],
      "metadata": {
        "id": "lY3j4lkaNnuX"
      },
      "execution_count": 29,
      "outputs": []
    },
    {
      "cell_type": "code",
      "source": [
        "edgesA"
      ],
      "metadata": {
        "colab": {
          "base_uri": "https://localhost:8080/"
        },
        "id": "D4ZqcCsTwoln",
        "outputId": "ff204c72-30a0-4191-c5e1-312b7a7878ee"
      },
      "execution_count": 41,
      "outputs": [
        {
          "output_type": "execute_result",
          "data": {
            "text/plain": [
              "[(0, 1),\n",
              " (1, 2),\n",
              " (2, 3),\n",
              " (3, 4),\n",
              " (4, 5),\n",
              " (5, 6),\n",
              " (6, 7),\n",
              " (7, 8),\n",
              " (8, 9),\n",
              " (9, 10),\n",
              " (10, 11),\n",
              " (11, 12),\n",
              " (12, 13),\n",
              " (13, 14),\n",
              " (14, 15),\n",
              " (15, 16),\n",
              " (16, 17),\n",
              " (17, 18),\n",
              " (18, 19)]"
            ]
          },
          "metadata": {},
          "execution_count": 41
        }
      ]
    },
    {
      "cell_type": "code",
      "source": [
        "allEdge = np.concatenate((edgesA,edgesB,edgesC,edgesD,edgesE))\n",
        "Edges= list(set(map(tuple, allEdge)))\n",
        "Edges"
      ],
      "metadata": {
        "colab": {
          "base_uri": "https://localhost:8080/"
        },
        "id": "h-Jjb8PJ1lj5",
        "outputId": "989c5a0e-c5ea-4314-cee6-63d3ea94b1a4"
      },
      "execution_count": 49,
      "outputs": [
        {
          "output_type": "execute_result",
          "data": {
            "text/plain": [
              "[(47, 53),\n",
              " (5, 10),\n",
              " (8, 9),\n",
              " (23, 25),\n",
              " (65, 70),\n",
              " (28, 30),\n",
              " (13, 17),\n",
              " (24, 26),\n",
              " (18, 19),\n",
              " (20, 22),\n",
              " (70, 75),\n",
              " (14, 15),\n",
              " (9, 10),\n",
              " (2, 4),\n",
              " (15, 16),\n",
              " (25, 27),\n",
              " (35, 37),\n",
              " (31, 33),\n",
              " (23, 29),\n",
              " (40, 45),\n",
              " (95, 100),\n",
              " (27, 29),\n",
              " (16, 17),\n",
              " (59, 61),\n",
              " (12, 13),\n",
              " (5, 7),\n",
              " (0, 2),\n",
              " (1, 3),\n",
              " (10, 15),\n",
              " (13, 14),\n",
              " (53, 59),\n",
              " (33, 35),\n",
              " (29, 31),\n",
              " (31, 37),\n",
              " (80, 85),\n",
              " (75, 80),\n",
              " (7, 9),\n",
              " (3, 5),\n",
              " (36, 38),\n",
              " (45, 50),\n",
              " (7, 11),\n",
              " (55, 60),\n",
              " (32, 34),\n",
              " (4, 6),\n",
              " (14, 16),\n",
              " (61, 67),\n",
              " (17, 18),\n",
              " (10, 12),\n",
              " (37, 39),\n",
              " (6, 8),\n",
              " (15, 20),\n",
              " (5, 6),\n",
              " (20, 25),\n",
              " (1, 2),\n",
              " (34, 36),\n",
              " (11, 13),\n",
              " (37, 41),\n",
              " (30, 35),\n",
              " (85, 90),\n",
              " (12, 14),\n",
              " (43, 47),\n",
              " (8, 10),\n",
              " (2, 3),\n",
              " (41, 43),\n",
              " (3, 4),\n",
              " (18, 20),\n",
              " (50, 55),\n",
              " (67, 71),\n",
              " (60, 65),\n",
              " (9, 11),\n",
              " (19, 21),\n",
              " (15, 17),\n",
              " (4, 5),\n",
              " (0, 1),\n",
              " (10, 11),\n",
              " (19, 23),\n",
              " (30, 32),\n",
              " (6, 7),\n",
              " (16, 18),\n",
              " (26, 28),\n",
              " (25, 30),\n",
              " (21, 23),\n",
              " (35, 40),\n",
              " (90, 95),\n",
              " (22, 24),\n",
              " (17, 19),\n",
              " (11, 12),\n",
              " (13, 15),\n",
              " (7, 8)]"
            ]
          },
          "metadata": {},
          "execution_count": 49
        }
      ]
    },
    {
      "cell_type": "code",
      "source": [
        "#generate Nodes\n",
        "for node in Vertices:\n",
        "    G.add_node(node)"
      ],
      "metadata": {
        "id": "ADAyhVKixTMw"
      },
      "execution_count": 50,
      "outputs": []
    },
    {
      "cell_type": "code",
      "source": [
        "#generate Edges\n",
        "for edge in Edges:\n",
        "    G.add_edge(*edge)"
      ],
      "metadata": {
        "id": "_IYNtnhMy8uI"
      },
      "execution_count": 53,
      "outputs": []
    },
    {
      "cell_type": "code",
      "source": [
        "nx.draw(G, with_labels = True)"
      ],
      "metadata": {
        "colab": {
          "base_uri": "https://localhost:8080/",
          "height": 516
        },
        "id": "cpqjWNgrywqr",
        "outputId": "c28b0ce3-3b25-4843-e25f-3696c1e44556"
      },
      "execution_count": 55,
      "outputs": [
        {
          "output_type": "display_data",
          "data": {
            "text/plain": [
              "<Figure size 640x480 with 1 Axes>"
            ],
            "image/png": "[encoded data removed]"
          },
          "metadata": {}
        }
      ]
    },
    {
      "cell_type": "code",
      "source": [],
      "metadata": {
        "id": "0QdQAoety5V4"
      },
      "execution_count": null,
      "outputs": []
    }
  ]
}