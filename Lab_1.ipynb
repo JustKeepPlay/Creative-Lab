{
  "nbformat": 4,
  "nbformat_minor": 0,
  "metadata": {
    "colab": {
      "provenance": [],
      "authorship_tag": "ABX9TyPYUTeV3eUF0AZCKCql+lNR",
      "include_colab_link": true
    },
    "kernelspec": {
      "name": "python3",
      "display_name": "Python 3"
    },
    "language_info": {
      "name": "python"
    }
  },
  "cells": [
    {
      "cell_type": "markdown",
      "metadata": {
        "id": "view-in-github",
        "colab_type": "text"
      },
      "source": [
        "<a href=\"https://colab.research.google.com/github/JustKeepPlay/Creative-Lab/blob/main/Lab_1.ipynb\" target=\"_parent\"><img src=\"https://colab.research.google.com/assets/colab-badge.svg\" alt=\"Open In Colab\"/></a>"
      ]
    },
    {
      "cell_type": "code",
      "execution_count": null,
      "metadata": {
        "id": "Dy4_nhHPC_pg"
      },
      "outputs": [],
      "source": [
        "import numpy as np\n",
        "import math\n",
        "#import networkx as nx\n"
      ]
    },
    {
      "cell_type": "code",
      "source": [
        "A = np.arange(0,20,1) #gen list 20 element\n",
        "B = np.arange(0,40,2) #gen even list 20 element\n",
        "C = np.arange(1,40,2) #gen odd list 20 element"
      ],
      "metadata": {
        "id": "eZxComGqDAvs"
      },
      "execution_count": null,
      "outputs": []
    },
    {
      "cell_type": "code",
      "source": [
        "#prime number function\n",
        "def is_prime(num):\n",
        "\n",
        "    if num < 2:\n",
        "        return False\n",
        "    for i in range(2, int(math.sqrt(num)) + 1):\n",
        "        if num % i == 0:\n",
        "            return False\n",
        "    return True"
      ],
      "metadata": {
        "id": "pfxyPry9DHd0"
      },
      "execution_count": null,
      "outputs": []
    },
    {
      "cell_type": "code",
      "source": [
        "#gen prime list 20 element\n",
        "D = np.array([num for num in range(2, 100) if is_prime(num)])[:20]\n",
        "D"
      ],
      "metadata": {
        "colab": {
          "base_uri": "https://localhost:8080/"
        },
        "id": "ZblJEDOIDJyC",
        "outputId": "e58affa3-718b-4e7d-9eb8-ffdc13d584dc"
      },
      "execution_count": null,
      "outputs": [
        {
          "output_type": "execute_result",
          "data": {
            "text/plain": [
              "array([ 2,  3,  5,  7, 11, 13, 17, 19, 23, 29, 31, 37, 41, 43, 47, 53, 59,\n",
              "       61, 67, 71])"
            ]
          },
          "metadata": {},
          "execution_count": 4
        }
      ]
    },
    {
      "cell_type": "code",
      "source": [
        "#gen 5-divided list 20 element\n",
        "E = np.arange(5,105,5)\n",
        "E"
      ],
      "metadata": {
        "colab": {
          "base_uri": "https://localhost:8080/"
        },
        "id": "LEvMiQDlDMNp",
        "outputId": "63e6850d-d4d2-4118-8333-87ba72341fcf"
      },
      "execution_count": null,
      "outputs": [
        {
          "output_type": "execute_result",
          "data": {
            "text/plain": [
              "array([  5,  10,  15,  20,  25,  30,  35,  40,  45,  50,  55,  60,  65,\n",
              "        70,  75,  80,  85,  90,  95, 100])"
            ]
          },
          "metadata": {},
          "execution_count": 5
        }
      ]
    },
    {
      "cell_type": "code",
      "source": [
        "Lists = [A, B, C, D, E]\n",
        "for i in range(len(Lists)):\n",
        "    print(Lists[i])"
      ],
      "metadata": {
        "colab": {
          "base_uri": "https://localhost:8080/"
        },
        "id": "AIxePrUVDNyt",
        "outputId": "747f977a-8e18-41e4-d298-b3ad7fb60fa4"
      },
      "execution_count": null,
      "outputs": [
        {
          "output_type": "stream",
          "name": "stdout",
          "text": [
            "[ 0  1  2  3  4  5  6  7  8  9 10 11 12 13 14 15 16 17 18 19]\n",
            "[ 0  2  4  6  8 10 12 14 16 18 20 22 24 26 28 30 32 34 36 38]\n",
            "[ 1  3  5  7  9 11 13 15 17 19 21 23 25 27 29 31 33 35 37 39]\n",
            "[ 2  3  5  7 11 13 17 19 23 29 31 37 41 43 47 53 59 61 67 71]\n",
            "[  5  10  15  20  25  30  35  40  45  50  55  60  65  70  75  80  85  90\n",
            "  95 100]\n"
          ]
        }
      ]
    },
    {
      "cell_type": "code",
      "source": [
        "# create list of unique node\n",
        "allNum = np.concatenate((A,B,C,D,E))\n",
        "Vertices = list(set(allNum))\n",
        "print(Vertices)\n",
        "print(len(Vertices))"
      ],
      "metadata": {
        "colab": {
          "base_uri": "https://localhost:8080/"
        },
        "id": "8gJunl-0Qg-z",
        "outputId": "c2f4f0f6-f0d2-4ce8-e463-18643a55b50b"
      },
      "execution_count": null,
      "outputs": [
        {
          "output_type": "stream",
          "name": "stdout",
          "text": [
            "[0, 1, 2, 3, 4, 5, 6, 7, 8, 9, 10, 11, 12, 13, 14, 15, 16, 17, 18, 19, 20, 21, 22, 23, 24, 25, 26, 27, 28, 29, 30, 31, 32, 33, 34, 35, 36, 37, 38, 39, 40, 41, 43, 45, 47, 50, 53, 55, 59, 60, 61, 65, 67, 70, 71, 75, 80, 85, 90, 95, 100]\n",
            "61\n"
          ]
        }
      ]
    },
    {
      "cell_type": "code",
      "source": [
        "pip install networkx"
      ],
      "metadata": {
        "colab": {
          "base_uri": "https://localhost:8080/"
        },
        "id": "OA0V0qB7DPHs",
        "outputId": "05a786c7-02a2-4094-eb86-f3651ac4bf6e"
      },
      "execution_count": null,
      "outputs": [
        {
          "output_type": "stream",
          "name": "stdout",
          "text": [
            "Requirement already satisfied: networkx in /usr/local/lib/python3.10/dist-packages (3.1)\n"
          ]
        }
      ]
    },
    {
      "cell_type": "code",
      "source": [
        "import matplotlib.pyplot as plt\n",
        "import networkx as nx"
      ],
      "metadata": {
        "id": "ILhx80l9DRX0"
      },
      "execution_count": null,
      "outputs": []
    },
    {
      "cell_type": "code",
      "source": [
        "G=nx.Graph()"
      ],
      "metadata": {
        "id": "YPv6nn4eE4Nw"
      },
      "execution_count": null,
      "outputs": []
    },
    {
      "cell_type": "code",
      "source": [
        "#gen edges for each list\n",
        "edgesA = [(A[i], A[i + 1]) for i in range(len(A) - 1)]\n",
        "edgesB = [(B[i], B[i + 1]) for i in range(len(B) - 1)]\n",
        "edgesC = [(C[i], C[i + 1]) for i in range(len(C) - 1)]\n",
        "edgesD = [(D[i], D[i + 1]) for i in range(len(D) - 1)]\n",
        "edgesE = [(E[i], E[i + 1]) for i in range(len(E) - 1)]"
      ],
      "metadata": {
        "id": "lY3j4lkaNnuX"
      },
      "execution_count": null,
      "outputs": []
    },
    {
      "cell_type": "code",
      "source": [
        "edgesC"
      ],
      "metadata": {
        "colab": {
          "base_uri": "https://localhost:8080/"
        },
        "id": "D4ZqcCsTwoln",
        "outputId": "59f120df-d261-4aca-bff9-b4668015fc98"
      },
      "execution_count": null,
      "outputs": [
        {
          "output_type": "execute_result",
          "data": {
            "text/plain": [
              "[(1, 3),\n",
              " (3, 5),\n",
              " (5, 7),\n",
              " (7, 9),\n",
              " (9, 11),\n",
              " (11, 13),\n",
              " (13, 15),\n",
              " (15, 17),\n",
              " (17, 19),\n",
              " (19, 21),\n",
              " (21, 23),\n",
              " (23, 25),\n",
              " (25, 27),\n",
              " (27, 29),\n",
              " (29, 31),\n",
              " (31, 33),\n",
              " (33, 35),\n",
              " (35, 37),\n",
              " (37, 39)]"
            ]
          },
          "metadata": {},
          "execution_count": 12
        }
      ]
    },
    {
      "cell_type": "code",
      "source": [
        "#gen list of unique edges\n",
        "allEdge = np.concatenate((edgesA,edgesB,edgesC,edgesD,edgesE))\n",
        "Edges= set(map(tuple, allEdge))\n"
      ],
      "metadata": {
        "id": "h-Jjb8PJ1lj5"
      },
      "execution_count": null,
      "outputs": []
    },
    {
      "cell_type": "code",
      "source": [
        "#generate Nodes\n",
        "for node in Vertices:\n",
        "    G.add_node(node)"
      ],
      "metadata": {
        "id": "ADAyhVKixTMw"
      },
      "execution_count": null,
      "outputs": []
    },
    {
      "cell_type": "code",
      "source": [
        "#generate Edges\n",
        "for edge in Edges:\n",
        "    G.add_edge(*edge)"
      ],
      "metadata": {
        "id": "_IYNtnhMy8uI"
      },
      "execution_count": null,
      "outputs": []
    },
    {
      "cell_type": "code",
      "source": [
        "nx.draw_networkx(G,arrows=True,arrowsize=10,arrowstyle='->',with_labels=True,node_size=80,node_color='#42f5e9')"
      ],
      "metadata": {
        "colab": {
          "base_uri": "https://localhost:8080/",
          "height": 406
        },
        "id": "cpqjWNgrywqr",
        "outputId": "2b7c96a6-2290-43fe-c68d-a7c9abaad57d"
      },
      "execution_count": null,
      "outputs": [
        {
          "output_type": "display_data",
          "data": {
            "text/plain": [
              "<Figure size 640x480 with 1 Axes>"
            ],
            "image/png": "[encoded data removed]"
          },
          "metadata": {}
        }
      ]
    },
    {
      "cell_type": "code",
      "source": [],
      "metadata": {
        "id": "IaNW0z0x8lCi"
      },
      "execution_count": null,
      "outputs": []
    }
  ]
}