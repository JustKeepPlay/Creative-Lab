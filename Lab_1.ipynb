{
  "nbformat": 4,
  "nbformat_minor": 0,
  "metadata": {
    "colab": {
      "provenance": [],
      "authorship_tag": "ABX9TyMCN+hpqHIe1vQTUdrLJObS",
      "include_colab_link": true
    },
    "kernelspec": {
      "name": "python3",
      "display_name": "Python 3"
    },
    "language_info": {
      "name": "python"
    }
  },
  "cells": [
    {
      "cell_type": "markdown",
      "metadata": {
        "id": "view-in-github",
        "colab_type": "text"
      },
      "source": [
        "<a href=\"https://colab.research.google.com/github/JustKeepPlay/Creative-Lab/blob/main/Lab_1.ipynb\" target=\"_parent\"><img src=\"https://colab.research.google.com/assets/colab-badge.svg\" alt=\"Open In Colab\"/></a>"
      ]
    },
    {
      "cell_type": "code",
      "execution_count": 280,
      "metadata": {
        "id": "Dy4_nhHPC_pg"
      },
      "outputs": [],
      "source": [
        "import numpy as np\n",
        "import math\n",
        "#import networkx as nx\n"
      ]
    },
    {
      "cell_type": "code",
      "source": [
        "A = np.arange(0,20,1) #gen list 20 element\n",
        "B = np.arange(0,40,2) #gen even list 20 element\n",
        "C = np.arange(1,40,2) #gen odd list 20 element"
      ],
      "metadata": {
        "id": "eZxComGqDAvs"
      },
      "execution_count": 281,
      "outputs": []
    },
    {
      "cell_type": "code",
      "source": [
        "#prime number function\n",
        "def is_prime(num):\n",
        "\n",
        "    if num < 2:\n",
        "        return False\n",
        "    for i in range(2, int(math.sqrt(num)) + 1):\n",
        "        if num % i == 0:\n",
        "            return False\n",
        "    return True"
      ],
      "metadata": {
        "id": "pfxyPry9DHd0"
      },
      "execution_count": 282,
      "outputs": []
    },
    {
      "cell_type": "code",
      "source": [
        "#gen prime list 20 element\n",
        "D = np.array([num for num in range(2, 100) if is_prime(num)])[:20]\n",
        "D"
      ],
      "metadata": {
        "colab": {
          "base_uri": "https://localhost:8080/"
        },
        "id": "ZblJEDOIDJyC",
        "outputId": "cf260af5-657a-4f6a-aa0a-9d393b72ca62"
      },
      "execution_count": 283,
      "outputs": [
        {
          "output_type": "execute_result",
          "data": {
            "text/plain": [
              "array([ 2,  3,  5,  7, 11, 13, 17, 19, 23, 29, 31, 37, 41, 43, 47, 53, 59,\n",
              "       61, 67, 71])"
            ]
          },
          "metadata": {},
          "execution_count": 283
        }
      ]
    },
    {
      "cell_type": "code",
      "source": [
        "#gen 5-divided list 20 element\n",
        "E = np.arange(5,105,5)\n",
        "E"
      ],
      "metadata": {
        "colab": {
          "base_uri": "https://localhost:8080/"
        },
        "id": "LEvMiQDlDMNp",
        "outputId": "a9c58a3d-fc2d-45d7-9a2f-b6fc43e1a458"
      },
      "execution_count": 284,
      "outputs": [
        {
          "output_type": "execute_result",
          "data": {
            "text/plain": [
              "array([  5,  10,  15,  20,  25,  30,  35,  40,  45,  50,  55,  60,  65,\n",
              "        70,  75,  80,  85,  90,  95, 100])"
            ]
          },
          "metadata": {},
          "execution_count": 284
        }
      ]
    },
    {
      "cell_type": "code",
      "source": [
        "Lists = [A, B, C, D, E]\n",
        "for i in range(len(Lists)):\n",
        "    print(Lists[i])"
      ],
      "metadata": {
        "colab": {
          "base_uri": "https://localhost:8080/"
        },
        "id": "AIxePrUVDNyt",
        "outputId": "ac77f38d-669a-494c-8d7b-fb3b5ae872b7"
      },
      "execution_count": 285,
      "outputs": [
        {
          "output_type": "stream",
          "name": "stdout",
          "text": [
            "[ 0  1  2  3  4  5  6  7  8  9 10 11 12 13 14 15 16 17 18 19]\n",
            "[ 0  2  4  6  8 10 12 14 16 18 20 22 24 26 28 30 32 34 36 38]\n",
            "[ 1  3  5  7  9 11 13 15 17 19 21 23 25 27 29 31 33 35 37 39]\n",
            "[ 2  3  5  7 11 13 17 19 23 29 31 37 41 43 47 53 59 61 67 71]\n",
            "[  5  10  15  20  25  30  35  40  45  50  55  60  65  70  75  80  85  90\n",
            "  95 100]\n"
          ]
        }
      ]
    },
    {
      "cell_type": "code",
      "source": [
        "pip install networkx"
      ],
      "metadata": {
        "colab": {
          "base_uri": "https://localhost:8080/"
        },
        "id": "OA0V0qB7DPHs",
        "outputId": "2e67c307-0032-44be-9d13-f178da7a9580"
      },
      "execution_count": 286,
      "outputs": [
        {
          "output_type": "stream",
          "name": "stdout",
          "text": [
            "Requirement already satisfied: networkx in /usr/local/lib/python3.10/dist-packages (3.1)\n"
          ]
        }
      ]
    },
    {
      "cell_type": "code",
      "source": [
        "import matplotlib.pyplot as plt\n",
        "import networkx as nx\n",
        "import hashlib"
      ],
      "metadata": {
        "id": "ILhx80l9DRX0"
      },
      "execution_count": 287,
      "outputs": []
    },
    {
      "cell_type": "code",
      "source": [
        "G=nx.Graph()"
      ],
      "metadata": {
        "id": "YPv6nn4eE4Nw"
      },
      "execution_count": 288,
      "outputs": []
    },
    {
      "cell_type": "code",
      "source": [
        "allNode =[]\n",
        "def add_node (nodes):\n",
        "    listofNode = []\n",
        "    for node in nodes:\n",
        "        if node not in listofNode:\n",
        "            addNode = G.add_node(node)\n",
        "            listofNode.append(node)\n",
        "            allNode.append(node)\n",
        "    return addNode"
      ],
      "metadata": {
        "id": "Ny4lg3-Tv2at"
      },
      "execution_count": 289,
      "outputs": []
    },
    {
      "cell_type": "code",
      "source": [
        "allNode=[]\n",
        "add_node(A)\n",
        "add_node(B)\n",
        "add_node(E)"
      ],
      "metadata": {
        "id": "LYxORkws2l4g"
      },
      "execution_count": 290,
      "outputs": []
    },
    {
      "cell_type": "code",
      "source": [
        "allNode"
      ],
      "metadata": {
        "colab": {
          "base_uri": "https://localhost:8080/"
        },
        "id": "0hW2kA_qNd_W",
        "outputId": "2399daaf-bb3c-45f8-838a-f6430da2847b"
      },
      "execution_count": 291,
      "outputs": [
        {
          "output_type": "execute_result",
          "data": {
            "text/plain": [
              "[0,\n",
              " 1,\n",
              " 2,\n",
              " 3,\n",
              " 4,\n",
              " 5,\n",
              " 6,\n",
              " 7,\n",
              " 8,\n",
              " 9,\n",
              " 10,\n",
              " 11,\n",
              " 12,\n",
              " 13,\n",
              " 14,\n",
              " 15,\n",
              " 16,\n",
              " 17,\n",
              " 18,\n",
              " 19,\n",
              " 0,\n",
              " 2,\n",
              " 4,\n",
              " 6,\n",
              " 8,\n",
              " 10,\n",
              " 12,\n",
              " 14,\n",
              " 16,\n",
              " 18,\n",
              " 20,\n",
              " 22,\n",
              " 24,\n",
              " 26,\n",
              " 28,\n",
              " 30,\n",
              " 32,\n",
              " 34,\n",
              " 36,\n",
              " 38,\n",
              " 5,\n",
              " 10,\n",
              " 15,\n",
              " 20,\n",
              " 25,\n",
              " 30,\n",
              " 35,\n",
              " 40,\n",
              " 45,\n",
              " 50,\n",
              " 55,\n",
              " 60,\n",
              " 65,\n",
              " 70,\n",
              " 75,\n",
              " 80,\n",
              " 85,\n",
              " 90,\n",
              " 95,\n",
              " 100]"
            ]
          },
          "metadata": {},
          "execution_count": 291
        }
      ]
    },
    {
      "cell_type": "code",
      "source": [
        "#gen edges for each list\n",
        "edgesA = [(A[i], A[i + 1]) for i in range(len(A) - 1)]\n",
        "edgesB = [(B[i], B[i + 1]) for i in range(len(B) - 1)]\n",
        "edgesC = [(C[i], C[i + 1]) for i in range(len(C) - 1)]\n",
        "edgesD = [(D[i], D[i + 1]) for i in range(len(D) - 1)]\n",
        "edgesE = [(E[i], E[i + 1]) for i in range(len(E) - 1)]"
      ],
      "metadata": {
        "id": "lY3j4lkaNnuX"
      },
      "execution_count": 292,
      "outputs": []
    },
    {
      "cell_type": "code",
      "source": [
        "edgesE"
      ],
      "metadata": {
        "colab": {
          "base_uri": "https://localhost:8080/"
        },
        "id": "D4ZqcCsTwoln",
        "outputId": "1c9b6fcf-ac00-43bd-eae4-fd59604498f8"
      },
      "execution_count": 293,
      "outputs": [
        {
          "output_type": "execute_result",
          "data": {
            "text/plain": [
              "[(5, 10),\n",
              " (10, 15),\n",
              " (15, 20),\n",
              " (20, 25),\n",
              " (25, 30),\n",
              " (30, 35),\n",
              " (35, 40),\n",
              " (40, 45),\n",
              " (45, 50),\n",
              " (50, 55),\n",
              " (55, 60),\n",
              " (60, 65),\n",
              " (65, 70),\n",
              " (70, 75),\n",
              " (75, 80),\n",
              " (80, 85),\n",
              " (85, 90),\n",
              " (90, 95),\n",
              " (95, 100)]"
            ]
          },
          "metadata": {},
          "execution_count": 293
        }
      ]
    },
    {
      "cell_type": "code",
      "source": [
        "allEdge=[]\n",
        "def add_edge(edges):\n",
        "    listofEdge = []\n",
        "    for edge in edges :\n",
        "        if edge not in listofEdge:\n",
        "            added = G.add_edge(*edge)\n",
        "            listofEdge.append(edge)\n",
        "            allEdge.append(edge)\n",
        "    return added"
      ],
      "metadata": {
        "id": "Vk70f3NScN_A"
      },
      "execution_count": 294,
      "outputs": []
    },
    {
      "cell_type": "code",
      "source": [
        "allEdge = []\n",
        "add_edge(edgesA)\n",
        "add_edge(edgesB)\n",
        "add_edge(edgesE)"
      ],
      "metadata": {
        "id": "Qcap_K5zfMve"
      },
      "execution_count": 295,
      "outputs": []
    },
    {
      "cell_type": "code",
      "source": [
        "print(allEdge)"
      ],
      "metadata": {
        "colab": {
          "base_uri": "https://localhost:8080/"
        },
        "id": "c_Srr9TVPCML",
        "outputId": "755dd946-84b1-4c70-bde5-75d53876311e"
      },
      "execution_count": 296,
      "outputs": [
        {
          "output_type": "stream",
          "name": "stdout",
          "text": [
            "[(0, 1), (1, 2), (2, 3), (3, 4), (4, 5), (5, 6), (6, 7), (7, 8), (8, 9), (9, 10), (10, 11), (11, 12), (12, 13), (13, 14), (14, 15), (15, 16), (16, 17), (17, 18), (18, 19), (0, 2), (2, 4), (4, 6), (6, 8), (8, 10), (10, 12), (12, 14), (14, 16), (16, 18), (18, 20), (20, 22), (22, 24), (24, 26), (26, 28), (28, 30), (30, 32), (32, 34), (34, 36), (36, 38), (5, 10), (10, 15), (15, 20), (20, 25), (25, 30), (30, 35), (35, 40), (40, 45), (45, 50), (50, 55), (55, 60), (60, 65), (65, 70), (70, 75), (75, 80), (80, 85), (85, 90), (90, 95), (95, 100)]\n"
          ]
        }
      ]
    },
    {
      "cell_type": "code",
      "source": [
        "nx.draw_networkx(G,arrows=True,arrowsize=10,arrowstyle='->',with_labels=True,node_size=80,node_color='#42f5e9')"
      ],
      "metadata": {
        "id": "cpqjWNgrywqr",
        "colab": {
          "base_uri": "https://localhost:8080/",
          "height": 406
        },
        "outputId": "b3d0c5fc-261e-4301-8db5-fe9a2150e566"
      },
      "execution_count": 297,
      "outputs": [
        {
          "output_type": "display_data",
          "data": {
            "text/plain": [
              "<Figure size 640x480 with 1 Axes>"
            ],
            "image/png": "[encoded data removed]"
          },
          "metadata": {}
        }
      ]
    },
    {
      "cell_type": "code",
      "source": [
        "def traceback_node(node):\n",
        "    traceback_list = []\n",
        "    for i, num in enumerate(node):\n",
        "        if i == 0:\n",
        "            traceback_list.append((None, None, num))\n",
        "        elif i == 1:\n",
        "            traceback_list.append((None, node[i - 1], num))\n",
        "        else:\n",
        "            traceback_list.append((node[i - 2], node[i - 1], num))\n",
        "\n",
        "    return traceback_list"
      ],
      "metadata": {
        "id": "vIrRA510Iin1"
      },
      "execution_count": 298,
      "outputs": []
    },
    {
      "cell_type": "code",
      "source": [
        "preNode = traceback_node(E)"
      ],
      "metadata": {
        "id": "z-TgeqbiqQ9T"
      },
      "execution_count": 299,
      "outputs": []
    },
    {
      "cell_type": "code",
      "source": [
        "for edge, hist3 in zip(edgesE, preNode):\n",
        "    print(edge,hist3)"
      ],
      "metadata": {
        "colab": {
          "base_uri": "https://localhost:8080/"
        },
        "id": "rtWChVgNuXw7",
        "outputId": "43c045f1-c0d9-46fe-ce6c-6a1316cb2228"
      },
      "execution_count": 300,
      "outputs": [
        {
          "output_type": "stream",
          "name": "stdout",
          "text": [
            "(5, 10) (None, None, 5)\n",
            "(10, 15) (None, 5, 10)\n",
            "(15, 20) (5, 10, 15)\n",
            "(20, 25) (10, 15, 20)\n",
            "(25, 30) (15, 20, 25)\n",
            "(30, 35) (20, 25, 30)\n",
            "(35, 40) (25, 30, 35)\n",
            "(40, 45) (30, 35, 40)\n",
            "(45, 50) (35, 40, 45)\n",
            "(50, 55) (40, 45, 50)\n",
            "(55, 60) (45, 50, 55)\n",
            "(60, 65) (50, 55, 60)\n",
            "(65, 70) (55, 60, 65)\n",
            "(70, 75) (60, 65, 70)\n",
            "(75, 80) (65, 70, 75)\n",
            "(80, 85) (70, 75, 80)\n",
            "(85, 90) (75, 80, 85)\n",
            "(90, 95) (80, 85, 90)\n",
            "(95, 100) (85, 90, 95)\n"
          ]
        }
      ]
    },
    {
      "cell_type": "code",
      "source": [
        "def hash_value(edge, hist3):\n",
        "    hash_dict = {}\n",
        "    for E, H in zip(edge, hist3):\n",
        "        hist3ToString = str(E).encode('utf-8')\n",
        "        sha1_hash = hashlib.sha1(hist3ToString).hexdigest()\n",
        "        hash_dict[E] = sha1_hash\n",
        "\n",
        "    return hash_dict"
      ],
      "metadata": {
        "id": "IaNW0z0x8lCi"
      },
      "execution_count": 301,
      "outputs": []
    },
    {
      "cell_type": "code",
      "source": [
        "hash_value(edgesE,preNode)"
      ],
      "metadata": {
        "colab": {
          "base_uri": "https://localhost:8080/"
        },
        "id": "_c--SI9sS93l",
        "outputId": "ba5ee80f-6820-4829-f6ff-453a8825b1cd"
      },
      "execution_count": 302,
      "outputs": [
        {
          "output_type": "execute_result",
          "data": {
            "text/plain": [
              "{(5, 10): '186636da4135d98dc40e0c03be41effdcda01071',\n",
              " (10, 15): '638d17f249f7f38986f4df2a413d505f057ea39d',\n",
              " (15, 20): 'eda76fb5e97bef8394e908b7d6c23f8ae73425c6',\n",
              " (20, 25): '283ddbd8aed01decafec37e1be9cf190275486af',\n",
              " (25, 30): 'e0ac6e453724f4bda476f9398a4d5c8241d717e2',\n",
              " (30, 35): '4859763de3cdca750684ef8ecc0101da9f740baf',\n",
              " (35, 40): '089cd7170c6ca4347f6aa6fd3cadfa92db2235a5',\n",
              " (40, 45): 'c899914db5d4232a08deff63f69a07f929528844',\n",
              " (45, 50): '54cdb2a1a6784581f435c57f2b2a9de68391d878',\n",
              " (50, 55): '8e3297542ff262cf1fa27084addc022a067575ac',\n",
              " (55, 60): '731364742dc9ce94b226aec572c63ab13c6138a5',\n",
              " (60, 65): 'fd78d0dba089ead1c0e52301e4440ba46dfae936',\n",
              " (65, 70): '124d0188a516eb4b0c527cd213e61dbc13a89d3a',\n",
              " (70, 75): '9cae18b0eaa92fd6e0a8eaba08d33dc8195cff76',\n",
              " (75, 80): '93349e79aa63006316bab2db32db6656f2986f50',\n",
              " (80, 85): '3f753488753fe04cf834d2208dd16a1deffbfafb',\n",
              " (85, 90): 'd0735a9f5ca05e93f04ad3adfa619f54706894cb',\n",
              " (90, 95): 'da858019ee3d95d0c39ebe5e0b01e7aaaafb8082',\n",
              " (95, 100): '8a8da80540465534d7b537099659d1485092cd59'}"
            ]
          },
          "metadata": {},
          "execution_count": 302
        }
      ]
    },
    {
      "cell_type": "code",
      "source": [],
      "metadata": {
        "id": "LmISFyU5TVos"
      },
      "execution_count": 302,
      "outputs": []
    }
  ]
}