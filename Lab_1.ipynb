{
  "nbformat": 4,
  "nbformat_minor": 0,
  "metadata": {
    "colab": {
      "provenance": [],
      "authorship_tag": "ABX9TyPZ68pPBER18/nnkmH78U6v",
      "include_colab_link": true
    },
    "kernelspec": {
      "name": "python3",
      "display_name": "Python 3"
    },
    "language_info": {
      "name": "python"
    }
  },
  "cells": [
    {
      "cell_type": "markdown",
      "metadata": {
        "id": "view-in-github",
        "colab_type": "text"
      },
      "source": [
        "<a href=\"https://colab.research.google.com/github/JustKeepPlay/Creative-Lab/blob/main/Lab_1.ipynb\" target=\"_parent\"><img src=\"https://colab.research.google.com/assets/colab-badge.svg\" alt=\"Open In Colab\"/></a>"
      ]
    },
    {
      "cell_type": "code",
      "execution_count": 84,
      "metadata": {
        "id": "Dy4_nhHPC_pg"
      },
      "outputs": [],
      "source": [
        "import numpy as np\n",
        "import math\n",
        "#import networkx as nx\n"
      ]
    },
    {
      "cell_type": "code",
      "source": [
        "A = np.arange(0,20,1) #gen list 20 element\n",
        "B = np.arange(0,40,2) #gen even list 20 element\n",
        "C = np.arange(1,40,2) #gen odd list 20 element"
      ],
      "metadata": {
        "id": "eZxComGqDAvs"
      },
      "execution_count": 85,
      "outputs": []
    },
    {
      "cell_type": "code",
      "source": [
        "#prime number function\n",
        "def is_prime(num):\n",
        "\n",
        "    if num < 2:\n",
        "        return False\n",
        "    for i in range(2, int(math.sqrt(num)) + 1):\n",
        "        if num % i == 0:\n",
        "            return False\n",
        "    return True"
      ],
      "metadata": {
        "id": "pfxyPry9DHd0"
      },
      "execution_count": 86,
      "outputs": []
    },
    {
      "cell_type": "code",
      "source": [
        "#gen prime list 20 element\n",
        "D = np.array([num for num in range(2, 100) if is_prime(num)])[:20]\n",
        "D"
      ],
      "metadata": {
        "colab": {
          "base_uri": "https://localhost:8080/"
        },
        "id": "ZblJEDOIDJyC",
        "outputId": "3a30f103-11f4-4b8d-8dd1-9d4aa461f461"
      },
      "execution_count": 87,
      "outputs": [
        {
          "output_type": "execute_result",
          "data": {
            "text/plain": [
              "array([ 2,  3,  5,  7, 11, 13, 17, 19, 23, 29, 31, 37, 41, 43, 47, 53, 59,\n",
              "       61, 67, 71])"
            ]
          },
          "metadata": {},
          "execution_count": 87
        }
      ]
    },
    {
      "cell_type": "code",
      "source": [
        "#gen 5-divided list 20 element\n",
        "E = np.arange(5,105,5)\n",
        "E"
      ],
      "metadata": {
        "colab": {
          "base_uri": "https://localhost:8080/"
        },
        "id": "LEvMiQDlDMNp",
        "outputId": "479e132c-c33d-4523-cda2-74ee15fb0fcf"
      },
      "execution_count": 88,
      "outputs": [
        {
          "output_type": "execute_result",
          "data": {
            "text/plain": [
              "array([  5,  10,  15,  20,  25,  30,  35,  40,  45,  50,  55,  60,  65,\n",
              "        70,  75,  80,  85,  90,  95, 100])"
            ]
          },
          "metadata": {},
          "execution_count": 88
        }
      ]
    },
    {
      "cell_type": "code",
      "source": [
        "Lists = [A, B, C, D, E]\n",
        "for i in range(len(Lists)):\n",
        "    print(Lists[i])"
      ],
      "metadata": {
        "colab": {
          "base_uri": "https://localhost:8080/"
        },
        "id": "AIxePrUVDNyt",
        "outputId": "5d2df7f0-2714-4c9c-e93b-666d171d31e9"
      },
      "execution_count": 89,
      "outputs": [
        {
          "output_type": "stream",
          "name": "stdout",
          "text": [
            "[ 0  1  2  3  4  5  6  7  8  9 10 11 12 13 14 15 16 17 18 19]\n",
            "[ 0  2  4  6  8 10 12 14 16 18 20 22 24 26 28 30 32 34 36 38]\n",
            "[ 1  3  5  7  9 11 13 15 17 19 21 23 25 27 29 31 33 35 37 39]\n",
            "[ 2  3  5  7 11 13 17 19 23 29 31 37 41 43 47 53 59 61 67 71]\n",
            "[  5  10  15  20  25  30  35  40  45  50  55  60  65  70  75  80  85  90\n",
            "  95 100]\n"
          ]
        }
      ]
    },
    {
      "cell_type": "code",
      "source": [
        "pip install networkx"
      ],
      "metadata": {
        "colab": {
          "base_uri": "https://localhost:8080/"
        },
        "id": "OA0V0qB7DPHs",
        "outputId": "32fa4348-1e20-4400-b552-7ab38deb80c0"
      },
      "execution_count": 90,
      "outputs": [
        {
          "output_type": "stream",
          "name": "stdout",
          "text": [
            "Requirement already satisfied: networkx in /usr/local/lib/python3.10/dist-packages (3.1)\n"
          ]
        }
      ]
    },
    {
      "cell_type": "code",
      "source": [
        "import matplotlib.pyplot as plt\n",
        "import networkx as nx\n",
        "import hashlib as hs"
      ],
      "metadata": {
        "id": "ILhx80l9DRX0"
      },
      "execution_count": 91,
      "outputs": []
    },
    {
      "cell_type": "code",
      "source": [
        "G=nx.Graph()"
      ],
      "metadata": {
        "id": "YPv6nn4eE4Nw"
      },
      "execution_count": 92,
      "outputs": []
    },
    {
      "cell_type": "code",
      "source": [
        "#allNode =[]\n",
        "def add_node (nodes):\n",
        "    listofNode = []\n",
        "    for node in nodes:\n",
        "        if node not in listofNode:\n",
        "            addNode = G.add_node(node)\n",
        "            allNode.append(node)\n",
        "    return addNode"
      ],
      "metadata": {
        "id": "Ny4lg3-Tv2at"
      },
      "execution_count": 93,
      "outputs": []
    },
    {
      "cell_type": "code",
      "source": [
        "allNode=[]\n",
        "add_node(A)\n",
        "add_node(B)"
      ],
      "metadata": {
        "id": "LYxORkws2l4g"
      },
      "execution_count": 104,
      "outputs": []
    },
    {
      "cell_type": "code",
      "source": [
        "AllNode = list(set(allNode))\n"
      ],
      "metadata": {
        "id": "jC58R-DZx72Y"
      },
      "execution_count": 109,
      "outputs": []
    },
    {
      "cell_type": "code",
      "source": [
        "#gen edges for each list\n",
        "edgesA = [(A[i], A[i + 1]) for i in range(len(A) - 1)]\n",
        "edgesB = [(B[i], B[i + 1]) for i in range(len(B) - 1)]\n",
        "edgesC = [(C[i], C[i + 1]) for i in range(len(C) - 1)]\n",
        "edgesD = [(D[i], D[i + 1]) for i in range(len(D) - 1)]\n",
        "edgesE = [(E[i], E[i + 1]) for i in range(len(E) - 1)]"
      ],
      "metadata": {
        "id": "lY3j4lkaNnuX"
      },
      "execution_count": 96,
      "outputs": []
    },
    {
      "cell_type": "code",
      "source": [
        "edgesE"
      ],
      "metadata": {
        "colab": {
          "base_uri": "https://localhost:8080/"
        },
        "id": "D4ZqcCsTwoln",
        "outputId": "219ba3f9-301a-48bc-866b-4953a731163e"
      },
      "execution_count": 97,
      "outputs": [
        {
          "output_type": "execute_result",
          "data": {
            "text/plain": [
              "[(5, 10),\n",
              " (10, 15),\n",
              " (15, 20),\n",
              " (20, 25),\n",
              " (25, 30),\n",
              " (30, 35),\n",
              " (35, 40),\n",
              " (40, 45),\n",
              " (45, 50),\n",
              " (50, 55),\n",
              " (55, 60),\n",
              " (60, 65),\n",
              " (65, 70),\n",
              " (70, 75),\n",
              " (75, 80),\n",
              " (80, 85),\n",
              " (85, 90),\n",
              " (90, 95),\n",
              " (95, 100)]"
            ]
          },
          "metadata": {},
          "execution_count": 97
        }
      ]
    },
    {
      "cell_type": "code",
      "source": [
        "def add_edge(listofEdge):\n",
        "    added = G.add_edges_from(listofEdge)        #add edge to the graph one by one\n",
        "    return added"
      ],
      "metadata": {
        "id": "Vk70f3NScN_A"
      },
      "execution_count": 98,
      "outputs": []
    },
    {
      "cell_type": "code",
      "source": [
        "add_edge(edgesA)\n",
        "add_edge(edgesB)\n"
      ],
      "metadata": {
        "id": "Qcap_K5zfMve"
      },
      "execution_count": 99,
      "outputs": []
    },
    {
      "cell_type": "code",
      "source": [
        "def previous3 (edges ):\n",
        "    last3 = []                                                  #create list for last3 node dor each edge\n",
        "    for edge in edges :\n",
        "        startN , endN = edge\n",
        "        previous = []\n",
        "        for i in range(3,0,-1):                             #start loop at 3 , end at 0 , axis = -1\n",
        "            if startN >= (3 - i) :                           #check if the node is in range of 3\n",
        "                previous.append(startN - (3 - i ))     #add latest node to list for 3 time\n",
        "            else:\n",
        "                previous.append(None)                  #if it's not in range of 3 then add None instead\n",
        "        last3.append(previous)                           #add all last 3 to list\n",
        "    return last3"
      ],
      "metadata": {
        "id": "eVsjdiaZtDKj"
      },
      "execution_count": 100,
      "outputs": []
    },
    {
      "cell_type": "code",
      "source": [
        "preNode = previous3(edgesA)"
      ],
      "metadata": {
        "id": "z-TgeqbiqQ9T"
      },
      "execution_count": 101,
      "outputs": []
    },
    {
      "cell_type": "code",
      "source": [
        "for edge, hist3 in zip(edgesA, preNode):\n",
        "    print(edge,hist3)"
      ],
      "metadata": {
        "colab": {
          "base_uri": "https://localhost:8080/"
        },
        "id": "rtWChVgNuXw7",
        "outputId": "795657b1-9a18-4be4-c016-90acafc2153f"
      },
      "execution_count": 102,
      "outputs": [
        {
          "output_type": "stream",
          "name": "stdout",
          "text": [
            "(0, 1) [0, None, None]\n",
            "(1, 2) [1, 0, None]\n",
            "(2, 3) [2, 1, 0]\n",
            "(3, 4) [3, 2, 1]\n",
            "(4, 5) [4, 3, 2]\n",
            "(5, 6) [5, 4, 3]\n",
            "(6, 7) [6, 5, 4]\n",
            "(7, 8) [7, 6, 5]\n",
            "(8, 9) [8, 7, 6]\n",
            "(9, 10) [9, 8, 7]\n",
            "(10, 11) [10, 9, 8]\n",
            "(11, 12) [11, 10, 9]\n",
            "(12, 13) [12, 11, 10]\n",
            "(13, 14) [13, 12, 11]\n",
            "(14, 15) [14, 13, 12]\n",
            "(15, 16) [15, 14, 13]\n",
            "(16, 17) [16, 15, 14]\n",
            "(17, 18) [17, 16, 15]\n",
            "(18, 19) [18, 17, 16]\n"
          ]
        }
      ]
    },
    {
      "cell_type": "code",
      "source": [
        "nx.draw_networkx(G,arrows=True,arrowsize=10,arrowstyle='->',with_labels=True,node_size=80,node_color='#42f5e9')"
      ],
      "metadata": {
        "id": "cpqjWNgrywqr",
        "colab": {
          "base_uri": "https://localhost:8080/",
          "height": 406
        },
        "outputId": "55740d41-5466-4a0e-db81-55f5a0e10f54"
      },
      "execution_count": 103,
      "outputs": [
        {
          "output_type": "display_data",
          "data": {
            "text/plain": [
              "<Figure size 640x480 with 1 Axes>"
            ],
            "image/png": "[encoded data removed]"
          },
          "metadata": {}
        }
      ]
    },
    {
      "cell_type": "code",
      "source": [],
      "metadata": {
        "id": "IaNW0z0x8lCi"
      },
      "execution_count": 103,
      "outputs": []
    }
  ]
}