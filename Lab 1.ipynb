{
 "cells": [
  {
   "cell_type": "code",
   "execution_count": 20,
   "id": "16c14d6c",
   "metadata": {},
   "outputs": [],
   "source": [
    "import numpy as np\n",
    "import math\n",
    "#import networkx as nx\n"
   ]
  },
  {
   "cell_type": "markdown",
   "id": "d9da0269",
   "metadata": {},
   "source": [
    "**Create Lists**"
   ]
  },
  {
   "cell_type": "code",
   "execution_count": 21,
   "id": "c52a8c95",
   "metadata": {},
   "outputs": [],
   "source": [
    "A = np.arange(0,20,1)\n",
    "B = np.arange(0,40,2)\n",
    "C = np.arange(1,40,2)\n"
   ]
  },
  {
   "cell_type": "code",
   "execution_count": 29,
   "id": "dfc083c8",
   "metadata": {},
   "outputs": [
    {
     "data": {
      "text/plain": [
       "array([ 2,  3,  4,  5,  6,  7,  8,  9, 10, 11, 12, 13, 14, 15, 16, 17, 18,\n",
       "       19])"
      ]
     },
     "execution_count": 29,
     "metadata": {},
     "output_type": "execute_result"
    }
   ],
   "source": [
    "nums = np.arange(2,20,1)\n",
    "nums"
   ]
  },
  {
   "cell_type": "code",
   "execution_count": 30,
   "id": "d264591e",
   "metadata": {},
   "outputs": [],
   "source": [
    "def is_prime(num):\n",
    "    if num < 2:\n",
    "        return False\n",
    "    for i in range(2, int(math.sqrt(num)) + 1):\n",
    "        if num % i == 0:\n",
    "            return False\n",
    "    return True"
   ]
  },
  {
   "cell_type": "code",
   "execution_count": 33,
   "id": "df0cc507",
   "metadata": {},
   "outputs": [
    {
     "data": {
      "text/plain": [
       "array([ 2,  3,  5,  7, 11, 13, 17, 19, 23, 29, 31, 37, 41, 43, 47, 53, 59,\n",
       "       61, 67, 71])"
      ]
     },
     "execution_count": 33,
     "metadata": {},
     "output_type": "execute_result"
    }
   ],
   "source": [
    "\n",
    "D = np.array([num for num in range(2, 100) if is_prime(num)])[:20]\n",
    "D"
   ]
  },
  {
   "cell_type": "code",
   "execution_count": 34,
   "id": "583e4c7c",
   "metadata": {},
   "outputs": [
    {
     "data": {
      "text/plain": [
       "array([  5,  10,  15,  20,  25,  30,  35,  40,  45,  50,  55,  60,  65,\n",
       "        70,  75,  80,  85,  90,  95, 100])"
      ]
     },
     "execution_count": 34,
     "metadata": {},
     "output_type": "execute_result"
    }
   ],
   "source": [
    "E = np.arange(5,105,5)\n",
    "E"
   ]
  },
  {
   "cell_type": "code",
   "execution_count": 35,
   "id": "c9aaddb0",
   "metadata": {},
   "outputs": [
    {
     "name": "stdout",
     "output_type": "stream",
     "text": [
      "[ 0  1  2  3  4  5  6  7  8  9 10 11 12 13 14 15 16 17 18 19]\n",
      "[ 0  2  4  6  8 10 12 14 16 18 20 22 24 26 28 30 32 34 36 38]\n",
      "[ 1  3  5  7  9 11 13 15 17 19 21 23 25 27 29 31 33 35 37 39]\n",
      "[ 2  3  5  7 11 13 17 19 23 29 31 37 41 43 47 53 59 61 67 71]\n",
      "[  5  10  15  20  25  30  35  40  45  50  55  60  65  70  75  80  85  90\n",
      "  95 100]\n"
     ]
    }
   ],
   "source": [
    "Lists = [A, B, C, D, E]\n",
    "for i in range(len(Lists)):\n",
    "    print(Lists[i])"
   ]
  },
  {
   "cell_type": "markdown",
   "id": "1059ee1c",
   "metadata": {},
   "source": [
    "**Create Vertexes and Edges**"
   ]
  },
  {
   "cell_type": "code",
   "execution_count": 2,
   "id": "1581cf52",
   "metadata": {},
   "outputs": [
    {
     "name": "stdout",
     "output_type": "stream",
     "text": [
      "Collecting networkxNote: you may need to restart the kernel to use updated packages.\n"
     ]
    },
    {
     "name": "stderr",
     "output_type": "stream",
     "text": [
      "WARNING: Ignoring invalid distribution -ip (d:\\python\\lib\\site-packages)\n",
      "WARNING: Ignoring invalid distribution -ip (d:\\python\\lib\\site-packages)\n",
      "WARNING: Ignoring invalid distribution -ip (d:\\python\\lib\\site-packages)\n",
      "WARNING: Ignoring invalid distribution -ip (d:\\python\\lib\\site-packages)\n",
      "WARNING: Ignoring invalid distribution -ip (d:\\python\\lib\\site-packages)\n",
      "WARNING: Ignoring invalid distribution -ip (d:\\python\\lib\\site-packages)\n",
      "WARNING: Ignoring invalid distribution -ip (d:\\python\\lib\\site-packages)\n"
     ]
    },
    {
     "name": "stdout",
     "output_type": "stream",
     "text": [
      "\n",
      "  Using cached networkx-3.1-py3-none-any.whl (2.1 MB)\n",
      "Installing collected packages: networkx\n",
      "Successfully installed networkx-3.1\n"
     ]
    }
   ],
   "source": [
    "pip install networkx"
   ]
  },
  {
   "cell_type": "code",
   "execution_count": 37,
   "id": "bbb03954",
   "metadata": {},
   "outputs": [
    {
     "name": "stderr",
     "output_type": "stream",
     "text": [
      "WARNING: Ignoring invalid distribution -ip (d:\\python\\lib\\site-packages)\n",
      "WARNING: Ignoring invalid distribution -ip (d:\\python\\lib\\site-packages)\n",
      "  error: subprocess-exited-with-error\n",
      "  \n",
      "  Preparing metadata (pyproject.toml) did not run successfully.\n",
      "  exit code: 1\n",
      "  \n",
      "  [12 lines of output]\n",
      "  + meson setup C:\\Users\\Beck\\AppData\\Local\\Temp\\pip-install-2btpyxvm\\contourpy_049ce6a137c64da382c6ee06977677de C:\\Users\\Beck\\AppData\\Local\\Temp\\pip-install-2btpyxvm\\contourpy_049ce6a137c64da382c6ee06977677de\\.mesonpy-r96ez0au\\build -Dbuildtype=release -Db_ndebug=if-release -Db_vscrt=md --vsenv --native-file=C:\\Users\\Beck\\AppData\\Local\\Temp\\pip-install-2btpyxvm\\contourpy_049ce6a137c64da382c6ee06977677de\\.mesonpy-r96ez0au\\build\\meson-python-native-file.ini\n",
      "  The Meson build system\n",
      "  Version: 1.2.0\n",
      "  Source dir: C:\\Users\\Beck\\AppData\\Local\\Temp\\pip-install-2btpyxvm\\contourpy_049ce6a137c64da382c6ee06977677de\n",
      "  Build dir: C:\\Users\\Beck\\AppData\\Local\\Temp\\pip-install-2btpyxvm\\contourpy_049ce6a137c64da382c6ee06977677de\\.mesonpy-r96ez0au\\build\n",
      "  Build type: native build\n",
      "  Project name: contourpy\n",
      "  Project version: 1.1.0\n",
      "  \n",
      "  ..\\..\\meson.build:1:0: ERROR: Could not find C:\\Program Files (x86)\\Microsoft Visual Studio\\Installer\\vswhere.exe\n",
      "  \n",
      "  A full log can be found at C:\\Users\\Beck\\AppData\\Local\\Temp\\pip-install-2btpyxvm\\contourpy_049ce6a137c64da382c6ee06977677de\\.mesonpy-r96ez0au\\build\\meson-logs\\meson-log.txt\n",
      "  [end of output]\n",
      "  \n",
      "  note: This error originates from a subprocess, and is likely not a problem with pip.\n",
      "error: metadata-generation-failed\n",
      "\n",
      "Encountered error while generating package metadata.\n",
      "\n",
      "See above for output.\n",
      "\n",
      "note: This is an issue with the package mentioned above, not pip.\n",
      "hint: See above for details.\n",
      "WARNING: Ignoring invalid distribution -ip (d:\\python\\lib\\site-packages)\n",
      "WARNING: Ignoring invalid distribution -ip (d:\\python\\lib\\site-packages)\n",
      "WARNING: Ignoring invalid distribution -ip (d:\\python\\lib\\site-packages)\n"
     ]
    },
    {
     "name": "stdout",
     "output_type": "stream",
     "text": [
      "Collecting matplotlib\n",
      "  Using cached matplotlib-3.7.2-cp38-cp38-win32.whl (7.3 MB)\n",
      "Collecting pillow>=6.2.0\n",
      "  Downloading Pillow-10.0.0.tar.gz (50.5 MB)\n",
      "     -------------------------------------- 50.5/50.5 MB 148.6 kB/s eta 0:00:00\n",
      "  Installing build dependencies: started\n",
      "  Installing build dependencies: finished with status 'done'\n",
      "  Getting requirements to build wheel: started\n",
      "  Getting requirements to build wheel: finished with status 'done'\n",
      "  Preparing metadata (pyproject.toml): started\n",
      "  Preparing metadata (pyproject.toml): finished with status 'done'\n",
      "Collecting numpy>=1.20\n",
      "  Using cached numpy-1.24.4-cp38-cp38-win32.whl (12.5 MB)\n",
      "Collecting contourpy>=1.0.1\n",
      "  Using cached contourpy-1.1.0.tar.gz (13.4 MB)\n",
      "  Installing build dependencies: started\n",
      "  Installing build dependencies: finished with status 'done'\n",
      "  Getting requirements to build wheel: started\n",
      "  Getting requirements to build wheel: finished with status 'done'\n",
      "  Preparing metadata (pyproject.toml): started\n",
      "  Preparing metadata (pyproject.toml): finished with status 'error'\n"
     ]
    }
   ],
   "source": [
    "import networkx as nx"
   ]
  },
  {
   "cell_type": "code",
   "execution_count": 4,
   "id": "043b0878-ce41-426a-9d9b-dda1f989a01e",
   "metadata": {},
   "outputs": [],
   "source": [
    "G=nx.Graph()"
   ]
  },
  {
   "cell_type": "code",
   "execution_count": null,
   "id": "040951c1-7e34-468d-8d95-de58e272a436",
   "metadata": {},
   "outputs": [],
   "source": [
    "G.add_nodes_from(A)\n"
   ]
  }
 ],
 "metadata": {
  "kernelspec": {
   "display_name": "Python 3 (ipykernel)",
   "language": "python",
   "name": "python3"
  },
  "language_info": {
   "codemirror_mode": {
    "name": "ipython",
    "version": 3
   },
   "file_extension": ".py",
   "mimetype": "text/x-python",
   "name": "python",
   "nbconvert_exporter": "python",
   "pygments_lexer": "ipython3",
   "version": "3.8.3"
  }
 },
 "nbformat": 4,
 "nbformat_minor": 5
}
